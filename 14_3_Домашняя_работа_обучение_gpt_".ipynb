{
  "nbformat": 4,
  "nbformat_minor": 0,
  "metadata": {
    "colab": {
      "provenance": [],
      "authorship_tag": "ABX9TyODLTgj4s4zv8aiVyva/5O1",
      "include_colab_link": true
    },
    "kernelspec": {
      "name": "python3",
      "display_name": "Python 3"
    },
    "language_info": {
      "name": "python"
    }
  },
  "cells": [
    {
      "cell_type": "markdown",
      "metadata": {
        "id": "view-in-github",
        "colab_type": "text"
      },
      "source": [
        "<a href=\"https://colab.research.google.com/github/Artyom995/GPT-petroleum/blob/main/14_3_%D0%94%D0%BE%D0%BC%D0%B0%D1%88%D0%BD%D1%8F%D1%8F_%D1%80%D0%B0%D0%B1%D0%BE%D1%82%D0%B0_%D0%BE%D0%B1%D1%83%D1%87%D0%B5%D0%BD%D0%B8%D0%B5_gpt_%22.ipynb\" target=\"_parent\"><img src=\"https://colab.research.google.com/assets/colab-badge.svg\" alt=\"Open In Colab\"/></a>"
      ]
    },
    {
      "cell_type": "markdown",
      "source": [],
      "metadata": {
        "id": "v0-BXrUGPXWD"
      }
    },
    {
      "cell_type": "code",
      "source": [
        "!pip install openai"
      ],
      "metadata": {
        "colab": {
          "base_uri": "https://localhost:8080/"
        },
        "id": "8tNfK5wRPW3D",
        "outputId": "a23cce09-047c-47bd-b2b0-940365a76357"
      },
      "execution_count": 38,
      "outputs": [
        {
          "output_type": "stream",
          "name": "stdout",
          "text": [
            "Requirement already satisfied: openai in /usr/local/lib/python3.10/dist-packages (1.59.4)\n",
            "Requirement already satisfied: anyio<5,>=3.5.0 in /usr/local/lib/python3.10/dist-packages (from openai) (3.7.1)\n",
            "Requirement already satisfied: distro<2,>=1.7.0 in /usr/local/lib/python3.10/dist-packages (from openai) (1.9.0)\n",
            "Requirement already satisfied: httpx<1,>=0.23.0 in /usr/local/lib/python3.10/dist-packages (from openai) (0.28.1)\n",
            "Requirement already satisfied: jiter<1,>=0.4.0 in /usr/local/lib/python3.10/dist-packages (from openai) (0.8.2)\n",
            "Requirement already satisfied: pydantic<3,>=1.9.0 in /usr/local/lib/python3.10/dist-packages (from openai) (2.10.4)\n",
            "Requirement already satisfied: sniffio in /usr/local/lib/python3.10/dist-packages (from openai) (1.3.1)\n",
            "Requirement already satisfied: tqdm>4 in /usr/local/lib/python3.10/dist-packages (from openai) (4.67.1)\n",
            "Requirement already satisfied: typing-extensions<5,>=4.11 in /usr/local/lib/python3.10/dist-packages (from openai) (4.12.2)\n",
            "Requirement already satisfied: idna>=2.8 in /usr/local/lib/python3.10/dist-packages (from anyio<5,>=3.5.0->openai) (3.10)\n",
            "Requirement already satisfied: exceptiongroup in /usr/local/lib/python3.10/dist-packages (from anyio<5,>=3.5.0->openai) (1.2.2)\n",
            "Requirement already satisfied: certifi in /usr/local/lib/python3.10/dist-packages (from httpx<1,>=0.23.0->openai) (2024.12.14)\n",
            "Requirement already satisfied: httpcore==1.* in /usr/local/lib/python3.10/dist-packages (from httpx<1,>=0.23.0->openai) (1.0.7)\n",
            "Requirement already satisfied: h11<0.15,>=0.13 in /usr/local/lib/python3.10/dist-packages (from httpcore==1.*->httpx<1,>=0.23.0->openai) (0.14.0)\n",
            "Requirement already satisfied: annotated-types>=0.6.0 in /usr/local/lib/python3.10/dist-packages (from pydantic<3,>=1.9.0->openai) (0.7.0)\n",
            "Requirement already satisfied: pydantic-core==2.27.2 in /usr/local/lib/python3.10/dist-packages (from pydantic<3,>=1.9.0->openai) (2.27.2)\n"
          ]
        }
      ]
    },
    {
      "cell_type": "code",
      "source": [
        "# Импортируем библиотеки:\n",
        "# Для вызова OpenAI API\n",
        "from openai import OpenAI\n",
        "# Для работы с системными командами\n",
        "import os\n",
        "import getpass\n",
        "\n",
        "# Выбираем модель GPT\n",
        "GPT_MODEL = \"gpt-3.5-turbo\""
      ],
      "metadata": {
        "id": "lfXvr8CaPvuP"
      },
      "execution_count": 39,
      "outputs": []
    },
    {
      "cell_type": "code",
      "source": [
        "# Помещаем OpenAI ключ в переменную окружения с именем 'OPENAI_API_KEY'\n",
        "# Привыкайте использовать переменные окружения в своем коде. Это вам позволит легко переносить код на удаленный сервер со своим окружением.\n",
        "\n",
        "os.environ[\"OPENAI_API_KEY\"] = getpass.getpass(\"Введите OpenAI API Key:\")"
      ],
      "metadata": {
        "colab": {
          "base_uri": "https://localhost:8080/"
        },
        "id": "-8Z897B_PyWp",
        "outputId": "fffa17cd-52db-4291-a852-a9e700740c8b"
      },
      "execution_count": 40,
      "outputs": [
        {
          "name": "stdout",
          "output_type": "stream",
          "text": [
            "Введите OpenAI API Key:··········\n"
          ]
        }
      ]
    },
    {
      "cell_type": "code",
      "source": [
        "# Запрос к chatGPT\n",
        "query = 'Где расположены известные смоляные ямы Ла Бреа ?'\n",
        "# Создаём объект OpenAI\n",
        "openai = OpenAI(\n",
        "  api_key = os.environ.get(\"OPENAI_API_KEY\"),\n",
        ")\n",
        "# Отправляем запрос к OpenAI API\n",
        "response = openai.chat.completions.create(\n",
        "    messages=[\n",
        "        {'role': 'system', 'content': 'Вы отвечаете на вопросы нефти'},\n",
        "        {'role': 'user', 'content': query},\n",
        "    ],\n",
        "    model=GPT_MODEL,\n",
        "    temperature=0,\n",
        ")\n",
        "\n",
        "# Выводим результат\n",
        "print(response.choices[0].message.content)"
      ],
      "metadata": {
        "colab": {
          "base_uri": "https://localhost:8080/"
        },
        "id": "NfdAVUCnQKgv",
        "outputId": "2b7f38b6-ef9d-49aa-9622-dacf6e6faadd"
      },
      "execution_count": 41,
      "outputs": [
        {
          "output_type": "stream",
          "name": "stdout",
          "text": [
            "Известные смоляные ямы Ла Бреа находятся в Лос-Анджелесе, штат Калифорния, США. Эти ямы являются одними из самых богатых исследовательских мест по ископаемым остаткам животных, включая древних мамонтов, саблезубых тигров и других древних видов.\n"
          ]
        }
      ]
    },
    {
      "cell_type": "code",
      "source": [
        "import pandas as pd\n",
        "import ast\n",
        "embeddings_path = \"https://storage.yandexcloud.net/petroleum/petrolium.csv\"\n",
        "\n",
        "df = pd.read_csv(embeddings_path)\n",
        "\n",
        "# Конвертируем наши эмбединги из строк в списки\n",
        "df['embedding'] = df['embedding'].apply(ast.literal_eval)"
      ],
      "metadata": {
        "id": "QqEOjkdhRg1V"
      },
      "execution_count": 42,
      "outputs": []
    },
    {
      "cell_type": "code",
      "source": [
        "# Наш датафрейм состоит из 2 колонок text и embedding\n",
        "pd.set_option('display.max_colwidth', 300)\n",
        "df.head()"
      ],
      "metadata": {
        "colab": {
          "base_uri": "https://localhost:8080/",
          "height": 674
        },
        "id": "59hKOuM0TEEF",
        "outputId": "c8ffa4d9-0e13-487f-bf74-8fcd04221e68"
      },
      "execution_count": 43,
      "outputs": [
        {
          "output_type": "execute_result",
          "data": {
            "text/plain": [
              "                                                                                                                                                                                                                                                                                                          text  \\\n",
              "0  Sucker rod\\n\\n{{Short description|A steel rod used in oil industry}}\\n[[File:Pump Jack labelled.png|thumb|right|300px|The line of sucker rods is represented in this diagram by the solid black line in the center of the well]]\\n\\nA '''sucker rod''' is a [[steel]] rod, typically between {{convert|7...   \n",
              "1                 Sucker rod\\n\\n==Productive process of sucker rod==\\n\\n*1. Inspection of steel round bar\\n*2. Straightening -Cold\\n*3. Length cutting\\n*4. Forging\\n*5. Heat treatment\\n*6. Straightening - heat\\n*7. Shot blasting\\n*8. Upset Machining\\n*9. Assembly, Protect cap\\n*10. Packing, Varnishing   \n",
              "2  Tar pit\\n\\n{{short description|Asphalt pit or asphalt lake}}\\n{{Use mdy dates|date=October 2022}}\\n[[File:Mother-of-the-Lake.jpg|thumb|Tar pit at Tierra La Brea, [[Trinidad]]]]\\n[[File:Tar Pit Formation Image.png|thumb|upright=1.3|An anticlinal trap is feeding the tar pit on the surface through ...   \n",
              "3  Tar pit\\n\\n== Chemistry ==\\n\\nTar pits are pools of asphalt. However, at the beginning of their formation, they were not always sticky and dense. The pools were composed of [[crude oil]] that originated below Earth's surface. Crude oil is a mixture of [[heteroatom]] compounds, [[hydrocarbon]]s, ...   \n",
              "4  Tar pit\\n\\n== Notable tar pits ==\\n\\n=== La Brea Tar Pits ===\\n\\nThe [[La Brea Tar Pits]] are located in [[Los Angeles]]. The petroleum that is seen on the surface is sourced from the [[Salt Lake Oil Field]] reservoir and the oil sands in the [[Repetto Formation|Repetto]] and [[Pico Formation|Pi...   \n",
              "\n",
              "                                                                                                                                                                                                                                                                                                     embedding  \n",
              "0  [-0.03264211490750313, 0.010200661607086658, 0.022757912054657936, -0.01213979721069336, -0.02207113429903984, 0.017088633030653, -0.017735011875629425, -0.023794809356331825, -0.011769476346671581, -0.031268563121557236, -0.019175896421074867, 0.006140596233308315, 0.008779975585639477, 0.00487...  \n",
              "1  [-0.03244452178478241, 0.018635490909218788, -0.0014613441890105605, -0.020391784608364105, -0.024480868130922318, 0.014680476859211922, -0.03469686955213547, 0.008225088939070702, -0.033356186002492905, -0.014385526068508625, -0.021370483562350273, 0.00549344765022397, -0.00582526670768857, 0.0...  \n",
              "2  [-0.00227798311971128, -0.008020683191716671, 0.0022609324660152197, -0.03483814001083374, -0.01613685116171837, 0.00653385603800416, -0.01705077290534973, -0.021402129903435707, -0.012065126560628414, -0.01958792842924595, 0.015100164338946342, 0.04176757112145424, -0.018305709585547447, 0.0146...  \n",
              "3  [0.008429058827459812, 0.003514924319460988, -0.007820706814527512, -0.046964798122644424, -0.03060688078403473, -0.0025145227555185556, -0.004180732183158398, -0.02895756997168064, -0.029092758893966675, -0.02398259937763214, -0.0038799357134848833, 0.04774889722466469, -0.019791727885603905, 0...  \n",
              "4  [0.0020707473158836365, -0.016021940857172012, 0.010928377509117126, -0.03900757431983948, -0.02151673100888729, -0.007514534518122673, -0.016974007710814476, -0.02907886914908886, -0.007194912061095238, -0.025379406288266182, 0.002789898542687297, 0.025488214567303658, -0.0030228151008486748, -...  "
            ],
            "text/html": [
              "\n",
              "  <div id=\"df-c48a3027-1405-41d1-96af-49db923c7470\" class=\"colab-df-container\">\n",
              "    <div>\n",
              "<style scoped>\n",
              "    .dataframe tbody tr th:only-of-type {\n",
              "        vertical-align: middle;\n",
              "    }\n",
              "\n",
              "    .dataframe tbody tr th {\n",
              "        vertical-align: top;\n",
              "    }\n",
              "\n",
              "    .dataframe thead th {\n",
              "        text-align: right;\n",
              "    }\n",
              "</style>\n",
              "<table border=\"1\" class=\"dataframe\">\n",
              "  <thead>\n",
              "    <tr style=\"text-align: right;\">\n",
              "      <th></th>\n",
              "      <th>text</th>\n",
              "      <th>embedding</th>\n",
              "    </tr>\n",
              "  </thead>\n",
              "  <tbody>\n",
              "    <tr>\n",
              "      <th>0</th>\n",
              "      <td>Sucker rod\\n\\n{{Short description|A steel rod used in oil industry}}\\n[[File:Pump Jack labelled.png|thumb|right|300px|The line of sucker rods is represented in this diagram by the solid black line in the center of the well]]\\n\\nA '''sucker rod''' is a [[steel]] rod, typically between {{convert|7...</td>\n",
              "      <td>[-0.03264211490750313, 0.010200661607086658, 0.022757912054657936, -0.01213979721069336, -0.02207113429903984, 0.017088633030653, -0.017735011875629425, -0.023794809356331825, -0.011769476346671581, -0.031268563121557236, -0.019175896421074867, 0.006140596233308315, 0.008779975585639477, 0.00487...</td>\n",
              "    </tr>\n",
              "    <tr>\n",
              "      <th>1</th>\n",
              "      <td>Sucker rod\\n\\n==Productive process of sucker rod==\\n\\n*1. Inspection of steel round bar\\n*2. Straightening -Cold\\n*3. Length cutting\\n*4. Forging\\n*5. Heat treatment\\n*6. Straightening - heat\\n*7. Shot blasting\\n*8. Upset Machining\\n*9. Assembly, Protect cap\\n*10. Packing, Varnishing</td>\n",
              "      <td>[-0.03244452178478241, 0.018635490909218788, -0.0014613441890105605, -0.020391784608364105, -0.024480868130922318, 0.014680476859211922, -0.03469686955213547, 0.008225088939070702, -0.033356186002492905, -0.014385526068508625, -0.021370483562350273, 0.00549344765022397, -0.00582526670768857, 0.0...</td>\n",
              "    </tr>\n",
              "    <tr>\n",
              "      <th>2</th>\n",
              "      <td>Tar pit\\n\\n{{short description|Asphalt pit or asphalt lake}}\\n{{Use mdy dates|date=October 2022}}\\n[[File:Mother-of-the-Lake.jpg|thumb|Tar pit at Tierra La Brea, [[Trinidad]]]]\\n[[File:Tar Pit Formation Image.png|thumb|upright=1.3|An anticlinal trap is feeding the tar pit on the surface through ...</td>\n",
              "      <td>[-0.00227798311971128, -0.008020683191716671, 0.0022609324660152197, -0.03483814001083374, -0.01613685116171837, 0.00653385603800416, -0.01705077290534973, -0.021402129903435707, -0.012065126560628414, -0.01958792842924595, 0.015100164338946342, 0.04176757112145424, -0.018305709585547447, 0.0146...</td>\n",
              "    </tr>\n",
              "    <tr>\n",
              "      <th>3</th>\n",
              "      <td>Tar pit\\n\\n== Chemistry ==\\n\\nTar pits are pools of asphalt. However, at the beginning of their formation, they were not always sticky and dense. The pools were composed of [[crude oil]] that originated below Earth's surface. Crude oil is a mixture of [[heteroatom]] compounds, [[hydrocarbon]]s, ...</td>\n",
              "      <td>[0.008429058827459812, 0.003514924319460988, -0.007820706814527512, -0.046964798122644424, -0.03060688078403473, -0.0025145227555185556, -0.004180732183158398, -0.02895756997168064, -0.029092758893966675, -0.02398259937763214, -0.0038799357134848833, 0.04774889722466469, -0.019791727885603905, 0...</td>\n",
              "    </tr>\n",
              "    <tr>\n",
              "      <th>4</th>\n",
              "      <td>Tar pit\\n\\n== Notable tar pits ==\\n\\n=== La Brea Tar Pits ===\\n\\nThe [[La Brea Tar Pits]] are located in [[Los Angeles]]. The petroleum that is seen on the surface is sourced from the [[Salt Lake Oil Field]] reservoir and the oil sands in the [[Repetto Formation|Repetto]] and [[Pico Formation|Pi...</td>\n",
              "      <td>[0.0020707473158836365, -0.016021940857172012, 0.010928377509117126, -0.03900757431983948, -0.02151673100888729, -0.007514534518122673, -0.016974007710814476, -0.02907886914908886, -0.007194912061095238, -0.025379406288266182, 0.002789898542687297, 0.025488214567303658, -0.0030228151008486748, -...</td>\n",
              "    </tr>\n",
              "  </tbody>\n",
              "</table>\n",
              "</div>\n",
              "    <div class=\"colab-df-buttons\">\n",
              "\n",
              "  <div class=\"colab-df-container\">\n",
              "    <button class=\"colab-df-convert\" onclick=\"convertToInteractive('df-c48a3027-1405-41d1-96af-49db923c7470')\"\n",
              "            title=\"Convert this dataframe to an interactive table.\"\n",
              "            style=\"display:none;\">\n",
              "\n",
              "  <svg xmlns=\"http://www.w3.org/2000/svg\" height=\"24px\" viewBox=\"0 -960 960 960\">\n",
              "    <path d=\"M120-120v-720h720v720H120Zm60-500h600v-160H180v160Zm220 220h160v-160H400v160Zm0 220h160v-160H400v160ZM180-400h160v-160H180v160Zm440 0h160v-160H620v160ZM180-180h160v-160H180v160Zm440 0h160v-160H620v160Z\"/>\n",
              "  </svg>\n",
              "    </button>\n",
              "\n",
              "  <style>\n",
              "    .colab-df-container {\n",
              "      display:flex;\n",
              "      gap: 12px;\n",
              "    }\n",
              "\n",
              "    .colab-df-convert {\n",
              "      background-color: #E8F0FE;\n",
              "      border: none;\n",
              "      border-radius: 50%;\n",
              "      cursor: pointer;\n",
              "      display: none;\n",
              "      fill: #1967D2;\n",
              "      height: 32px;\n",
              "      padding: 0 0 0 0;\n",
              "      width: 32px;\n",
              "    }\n",
              "\n",
              "    .colab-df-convert:hover {\n",
              "      background-color: #E2EBFA;\n",
              "      box-shadow: 0px 1px 2px rgba(60, 64, 67, 0.3), 0px 1px 3px 1px rgba(60, 64, 67, 0.15);\n",
              "      fill: #174EA6;\n",
              "    }\n",
              "\n",
              "    .colab-df-buttons div {\n",
              "      margin-bottom: 4px;\n",
              "    }\n",
              "\n",
              "    [theme=dark] .colab-df-convert {\n",
              "      background-color: #3B4455;\n",
              "      fill: #D2E3FC;\n",
              "    }\n",
              "\n",
              "    [theme=dark] .colab-df-convert:hover {\n",
              "      background-color: #434B5C;\n",
              "      box-shadow: 0px 1px 3px 1px rgba(0, 0, 0, 0.15);\n",
              "      filter: drop-shadow(0px 1px 2px rgba(0, 0, 0, 0.3));\n",
              "      fill: #FFFFFF;\n",
              "    }\n",
              "  </style>\n",
              "\n",
              "    <script>\n",
              "      const buttonEl =\n",
              "        document.querySelector('#df-c48a3027-1405-41d1-96af-49db923c7470 button.colab-df-convert');\n",
              "      buttonEl.style.display =\n",
              "        google.colab.kernel.accessAllowed ? 'block' : 'none';\n",
              "\n",
              "      async function convertToInteractive(key) {\n",
              "        const element = document.querySelector('#df-c48a3027-1405-41d1-96af-49db923c7470');\n",
              "        const dataTable =\n",
              "          await google.colab.kernel.invokeFunction('convertToInteractive',\n",
              "                                                    [key], {});\n",
              "        if (!dataTable) return;\n",
              "\n",
              "        const docLinkHtml = 'Like what you see? Visit the ' +\n",
              "          '<a target=\"_blank\" href=https://colab.research.google.com/notebooks/data_table.ipynb>data table notebook</a>'\n",
              "          + ' to learn more about interactive tables.';\n",
              "        element.innerHTML = '';\n",
              "        dataTable['output_type'] = 'display_data';\n",
              "        await google.colab.output.renderOutput(dataTable, element);\n",
              "        const docLink = document.createElement('div');\n",
              "        docLink.innerHTML = docLinkHtml;\n",
              "        element.appendChild(docLink);\n",
              "      }\n",
              "    </script>\n",
              "  </div>\n",
              "\n",
              "\n",
              "<div id=\"df-9d4854a8-2f85-45c0-a5bf-c78dcb1c7653\">\n",
              "  <button class=\"colab-df-quickchart\" onclick=\"quickchart('df-9d4854a8-2f85-45c0-a5bf-c78dcb1c7653')\"\n",
              "            title=\"Suggest charts\"\n",
              "            style=\"display:none;\">\n",
              "\n",
              "<svg xmlns=\"http://www.w3.org/2000/svg\" height=\"24px\"viewBox=\"0 0 24 24\"\n",
              "     width=\"24px\">\n",
              "    <g>\n",
              "        <path d=\"M19 3H5c-1.1 0-2 .9-2 2v14c0 1.1.9 2 2 2h14c1.1 0 2-.9 2-2V5c0-1.1-.9-2-2-2zM9 17H7v-7h2v7zm4 0h-2V7h2v10zm4 0h-2v-4h2v4z\"/>\n",
              "    </g>\n",
              "</svg>\n",
              "  </button>\n",
              "\n",
              "<style>\n",
              "  .colab-df-quickchart {\n",
              "      --bg-color: #E8F0FE;\n",
              "      --fill-color: #1967D2;\n",
              "      --hover-bg-color: #E2EBFA;\n",
              "      --hover-fill-color: #174EA6;\n",
              "      --disabled-fill-color: #AAA;\n",
              "      --disabled-bg-color: #DDD;\n",
              "  }\n",
              "\n",
              "  [theme=dark] .colab-df-quickchart {\n",
              "      --bg-color: #3B4455;\n",
              "      --fill-color: #D2E3FC;\n",
              "      --hover-bg-color: #434B5C;\n",
              "      --hover-fill-color: #FFFFFF;\n",
              "      --disabled-bg-color: #3B4455;\n",
              "      --disabled-fill-color: #666;\n",
              "  }\n",
              "\n",
              "  .colab-df-quickchart {\n",
              "    background-color: var(--bg-color);\n",
              "    border: none;\n",
              "    border-radius: 50%;\n",
              "    cursor: pointer;\n",
              "    display: none;\n",
              "    fill: var(--fill-color);\n",
              "    height: 32px;\n",
              "    padding: 0;\n",
              "    width: 32px;\n",
              "  }\n",
              "\n",
              "  .colab-df-quickchart:hover {\n",
              "    background-color: var(--hover-bg-color);\n",
              "    box-shadow: 0 1px 2px rgba(60, 64, 67, 0.3), 0 1px 3px 1px rgba(60, 64, 67, 0.15);\n",
              "    fill: var(--button-hover-fill-color);\n",
              "  }\n",
              "\n",
              "  .colab-df-quickchart-complete:disabled,\n",
              "  .colab-df-quickchart-complete:disabled:hover {\n",
              "    background-color: var(--disabled-bg-color);\n",
              "    fill: var(--disabled-fill-color);\n",
              "    box-shadow: none;\n",
              "  }\n",
              "\n",
              "  .colab-df-spinner {\n",
              "    border: 2px solid var(--fill-color);\n",
              "    border-color: transparent;\n",
              "    border-bottom-color: var(--fill-color);\n",
              "    animation:\n",
              "      spin 1s steps(1) infinite;\n",
              "  }\n",
              "\n",
              "  @keyframes spin {\n",
              "    0% {\n",
              "      border-color: transparent;\n",
              "      border-bottom-color: var(--fill-color);\n",
              "      border-left-color: var(--fill-color);\n",
              "    }\n",
              "    20% {\n",
              "      border-color: transparent;\n",
              "      border-left-color: var(--fill-color);\n",
              "      border-top-color: var(--fill-color);\n",
              "    }\n",
              "    30% {\n",
              "      border-color: transparent;\n",
              "      border-left-color: var(--fill-color);\n",
              "      border-top-color: var(--fill-color);\n",
              "      border-right-color: var(--fill-color);\n",
              "    }\n",
              "    40% {\n",
              "      border-color: transparent;\n",
              "      border-right-color: var(--fill-color);\n",
              "      border-top-color: var(--fill-color);\n",
              "    }\n",
              "    60% {\n",
              "      border-color: transparent;\n",
              "      border-right-color: var(--fill-color);\n",
              "    }\n",
              "    80% {\n",
              "      border-color: transparent;\n",
              "      border-right-color: var(--fill-color);\n",
              "      border-bottom-color: var(--fill-color);\n",
              "    }\n",
              "    90% {\n",
              "      border-color: transparent;\n",
              "      border-bottom-color: var(--fill-color);\n",
              "    }\n",
              "  }\n",
              "</style>\n",
              "\n",
              "  <script>\n",
              "    async function quickchart(key) {\n",
              "      const quickchartButtonEl =\n",
              "        document.querySelector('#' + key + ' button');\n",
              "      quickchartButtonEl.disabled = true;  // To prevent multiple clicks.\n",
              "      quickchartButtonEl.classList.add('colab-df-spinner');\n",
              "      try {\n",
              "        const charts = await google.colab.kernel.invokeFunction(\n",
              "            'suggestCharts', [key], {});\n",
              "      } catch (error) {\n",
              "        console.error('Error during call to suggestCharts:', error);\n",
              "      }\n",
              "      quickchartButtonEl.classList.remove('colab-df-spinner');\n",
              "      quickchartButtonEl.classList.add('colab-df-quickchart-complete');\n",
              "    }\n",
              "    (() => {\n",
              "      let quickchartButtonEl =\n",
              "        document.querySelector('#df-9d4854a8-2f85-45c0-a5bf-c78dcb1c7653 button');\n",
              "      quickchartButtonEl.style.display =\n",
              "        google.colab.kernel.accessAllowed ? 'block' : 'none';\n",
              "    })();\n",
              "  </script>\n",
              "</div>\n",
              "    </div>\n",
              "  </div>\n"
            ],
            "application/vnd.google.colaboratory.intrinsic+json": {
              "type": "dataframe",
              "variable_name": "df",
              "summary": "{\n  \"name\": \"df\",\n  \"rows\": 3520,\n  \"fields\": [\n    {\n      \"column\": \"text\",\n      \"properties\": {\n        \"dtype\": \"string\",\n        \"num_unique_values\": 3520,\n        \"samples\": [\n          \"List of countries by oil production\\n\\n== Countries by rank ==\\n\\n<!-- BEFORE ADDING FLAG TEMPLATES, see [[MOS:FLAG]] for further guidance -->\\n<!-- BEFORE ADDING FLAG TEMPLATES, see [[MOS:FLAG]] for further guidance -->\\n<!-- BEFORE ADDING FLAG TEMPLATES, see [[MOS:FLAG]] for further guidance -->\\n<!-- EDITORS: FOR THIS TABLE, PLEASE DO NOT UPDATE COUNTRIES INDIVIDUALLY. To keep these figures comparable for ranking purposes, UPDATE THEM ONLY AS A FULL CONSISTENT SET, covering the same calendar year. -->\\n<!-- BEFORE ADDING FLAG TEMPLATES, see [[MOS:FLAG]] for further guidance -->\\n<!-- BEFORE ADDING FLAG TEMPLATES, see [[MOS:FLAG]] for further guidance -->\\n<!-- BEFORE ADDING FLAG TEMPLATES, see [[MOS:FLAG]] for further guidance -->\",\n          \"Common ethanol fuel mixtures\\n\\n==E10 or less==\\n\\n===Availability===\\n\\n[[File:Delaware State Required E10 Logo.jpg|thumb|E10 Logo required on [[Delaware]] fuel dispensers]]\\n\\n* E10 became the standard fuel at petrol stations in the United Kingdom as of September 2021.\\n* E10 was introduced nationwide in Thailand in 2007, and replaced 91 octane pure gasoline in that country in 2013.\\n* E10 is commonly available in the [[Midwestern United States]]. It was also mandated for use in all standard automobile fuel in the state of Florida by the end of 2010. Due to the phasing out of [[MTBE]] as a gasoline additive and mainly due to the mandates established in the [[Energy Policy Act of 2005]] and the [[Energy Independence and Security Act of 2007]], ethanol blends have increased throughout the United States, and by 2009, the ethanol market share in the U.S. gasoline supply reached almost 8% by volume.\\n* Mandatory blending of ethanol was approved in Mozambique, but the percentage in the blend has not been specified.<ref name=BioAfrica/>\\n* South Africa approved a biofuel strategy in 2007, and mandated an 8% blend of ethanol by 2013.<ref name=BioAfrica/>\\n* A 2007 Uruguayan law mandates a minimum of 5% of ethanol blended with gasoline starting in January 2015. The monopolic, state-owned fuel producer [[ANCAP (Uruguay)|ANCAP]] started blending premium gasoline with 10% of bioethanol in December 2009, which will be available in all the country by early January 2010.\\n*The Dominican Republic has a mandate for blending 15% of ethanol by 2015.<ref name=UNEP2009/>\\n*Chile is considering the introduction of E5, and Panama, Bolivia and Venezuela of E10.<ref name=EIA2011/>\\n*India achieved the target of 10 percent ethanol blending, 5 months ahead of schedule, in June 2022.\\n*From January 2018, all 92-octane fuel in Vietnam is mandated to contain 5 percent ethanol (E5). No ethanol blending is required for 95-octane fuel.\\n*From June 2021, Argentina approved an E12 minimum (Law 27640), and after October 2022 a waiver for a maximum of E15.\",\n          \"Fuel polishing\\n\\n==Water in oil==\\n\\nAlmost everything on Earth contains elements of water; oil and fuel are no exceptions. While very small amounts exist in fuels to start with, stored fuel will become a breeding ground for the microbial bacteria and over time, the levels of damage change from dissolved to emulsified and finally free.\\n\\n* '''Dissolved''' - Dissolved water in oil is the presence of water but, unnoticeable to the eye. The water continues to develop until saturation point where water visibility begins. \\n* '''Emulsified''' - At the point of saturation, a cloudy appearance will be the tell-tale sign that the water/oil mixture has become emulsified. \\n* '''Free''' - The most developed stage of fuel contamination is when free-flowing puddles of water appear within stored oil. At this point, bacterial contamination and growth is boosted.\"\n        ],\n        \"semantic_type\": \"\",\n        \"description\": \"\"\n      }\n    },\n    {\n      \"column\": \"embedding\",\n      \"properties\": {\n        \"dtype\": \"object\",\n        \"semantic_type\": \"\",\n        \"description\": \"\"\n      }\n    }\n  ]\n}"
            }
          },
          "metadata": {},
          "execution_count": 43
        }
      ]
    },
    {
      "cell_type": "markdown",
      "source": [
        "определим функцию поиска\n",
        "\n",
        "Принимает пользовательский запрос и DataFrame со столбцами text и embedding;\n",
        "\n",
        "Токенизирует пользовательский запрос с помощью OpenAI API (для этого используется токенизатор text-embedding-ada-002);\n",
        "\n",
        "Использует косинусное расстояние для определения схожести между токенизированым пользовательским запросом и эмбендингами в DataFrame для ранжирования текстов по схожести или релевантности;\n",
        "\n",
        "Возвращает два списка:\n",
        "\n",
        "N лучших текстов, ранжированных по релевантности;\n",
        "\n",
        "Их соответствующие оценки релевантности."
      ],
      "metadata": {
        "id": "JM15FqSuTiXm"
      }
    },
    {
      "cell_type": "code",
      "source": [
        "from scipy import spatial  # вычисляет сходство векторов\n",
        "EMBEDDING_MODEL = \"text-embedding-ada-002\"\n",
        "\n",
        "# Функция поиска\n",
        "def strings_ranked_by_relatedness(\n",
        "    query: str, # пользовательский запрос\n",
        "    df: pd.DataFrame, # DataFrame со столбцами text и embedding (база знаний)\n",
        "    relatedness_fn=lambda x, y: 1 - spatial.distance.cosine(x, y), # функция схожести, косинусное расстояние\n",
        "    top_n: int = 100 # выбор лучших n-результатов\n",
        ") -> tuple[list[str], list[float]]: # Функция возвращает кортеж двух списков, первый содержит строки, второй - числа с плавающей запятой\n",
        "    \"\"\"Возвращает строки и схожести, отсортированные от большего к меньшему\"\"\"\n",
        "\n",
        "    # Отправляем в OpenAI API пользовательский запрос для токенизации\n",
        "    query_embedding_response = openai.embeddings.create(\n",
        "        model=EMBEDDING_MODEL,\n",
        "        input=query,\n",
        "    )\n",
        "\n",
        "    # Получен токенизированный пользовательский запрос\n",
        "    query_embedding = query_embedding_response.data[0].embedding\n",
        "\n",
        "    # Сравниваем пользовательский запрос с каждой токенизированной строкой DataFrame\n",
        "    strings_and_relatednesses = [\n",
        "        (row[\"text\"], relatedness_fn(query_embedding, row[\"embedding\"]))\n",
        "        for i, row in df.iterrows()\n",
        "    ]\n",
        "\n",
        "    # Сортируем по убыванию схожести полученный список\n",
        "    strings_and_relatednesses.sort(key=lambda x: x[1], reverse=True)\n",
        "\n",
        "    # Преобразовываем наш список в кортеж из списков\n",
        "    strings, relatednesses = zip(*strings_and_relatednesses)\n",
        "\n",
        "    # Возвращаем n лучших результатов\n",
        "    return strings[:top_n], relatednesses[:top_n]"
      ],
      "metadata": {
        "id": "hHEol-6rTjOc"
      },
      "execution_count": 44,
      "outputs": []
    },
    {
      "cell_type": "markdown",
      "source": [
        "Проверка на косинусное расстояние"
      ],
      "metadata": {
        "id": "n95oExHHUHcr"
      }
    },
    {
      "cell_type": "code",
      "source": [
        "strings, relatednesses = strings_ranked_by_relatedness(\"curling gold medal\", df, top_n=5)\n",
        "for string, relatedness in zip(strings, relatednesses):\n",
        "    print(f\"{relatedness=:.3f}\")\n",
        "    display(string)"
      ],
      "metadata": {
        "colab": {
          "base_uri": "https://localhost:8080/",
          "height": 539
        },
        "id": "fn6c-DceUERY",
        "outputId": "131e58ab-ec37-49b9-fb9e-4172fb006314"
      },
      "execution_count": 45,
      "outputs": [
        {
          "output_type": "stream",
          "name": "stdout",
          "text": [
            "relatedness=0.763\n"
          ]
        },
        {
          "output_type": "display_data",
          "data": {
            "text/plain": [
              "'State of Happiness\\n\\n==Awards and accolades==\\n\\nThe first season of the series received five [[Gullruten]] awards from among eight nominations in 2019, including best drama series and best actor (Anne Regine Ellingsæter). Its second season received another nine nominations, winning five Gullruten awards in 2022.\\n\\nInternationally, the series won awards for best screenplay and best music at the [[2018_Canneseries|inaugural Canneseries]] in 2018. It received nominations in three categories during the 2019 [[Monte-Carlo Television Festival]], but did not win.'"
            ],
            "application/vnd.google.colaboratory.intrinsic+json": {
              "type": "string"
            }
          },
          "metadata": {}
        },
        {
          "output_type": "stream",
          "name": "stdout",
          "text": [
            "relatedness=0.760\n"
          ]
        },
        {
          "output_type": "display_data",
          "data": {
            "text/plain": [
              "'Bardahl\\n\\n==Miss Bardahl==\\n\\nThe company remains prominent as a result of its sponsorship of motor sports competitors. The [[Miss Bardahl]] [[Hydroplane (boat)|Hydroplane]] was a six-time National Champion and five-time Gold Cup winner, racing in the United States from 1957 to 1969.\\n\\nOle was inducted into the [[Motorsports Hall of Fame of America]] in 2014.'"
            ],
            "application/vnd.google.colaboratory.intrinsic+json": {
              "type": "string"
            }
          },
          "metadata": {}
        },
        {
          "output_type": "stream",
          "name": "stdout",
          "text": [
            "relatedness=0.754\n"
          ]
        },
        {
          "output_type": "display_data",
          "data": {
            "text/plain": [
              "'Asterix and the Black Gold\\n\\n{{Short description|Comic book album}}\\n{{italic title}}\\n{{Infobox graphic novel\\n|title=Asterix and the Black Gold\\n|image=Asterix Black Gold.png\\n|foreigntitle=L\\'Odyssée d\\'Astérix\\n|series = [[Asterix]] \\n|writers=[[Albert Uderzo]]\\n|artists=Albert Uderzo\\n|origdate=1981\\n|origlanguage=French \\n|date=1982\\n|previssue=[[Asterix and the Great Divide]]\\n|nextissue=[[Asterix and Son]]\\n}}\\n\\n\\'\\'\\'\\'\\'Asterix and the Black Gold\\'\\'\\'\\'\\' (French: \\'\\'L\\'Odyssée d\\'Astérix\\'\\' literally \"Asterix\\'s Odyssey\") is the twenty-sixth volume of [[Asterix]] [[List of Asterix volumes|comic book series]], originally published in 1981. It is the second book to be both written and drawn by [[Albert Uderzo]].\\n\\nThe book describes Asterix\\'s and [[Obelix]]\\'s voyage to the [[Middle East]]. It is mainly inspired by [[James Bond]] films and [[Bible|biblical]] tales.'"
            ],
            "application/vnd.google.colaboratory.intrinsic+json": {
              "type": "string"
            }
          },
          "metadata": {}
        },
        {
          "output_type": "stream",
          "name": "stdout",
          "text": [
            "relatedness=0.752\n"
          ]
        },
        {
          "output_type": "display_data",
          "data": {
            "text/plain": [
              "\"Asterix and the Black Gold\\n\\n== Reception ==\\n\\nOn [[Goodreads]], ''Asterix and the Black Gold'' has a score of 4.01 out of 5.\""
            ],
            "application/vnd.google.colaboratory.intrinsic+json": {
              "type": "string"
            }
          },
          "metadata": {}
        },
        {
          "output_type": "stream",
          "name": "stdout",
          "text": [
            "relatedness=0.750\n"
          ]
        },
        {
          "output_type": "display_data",
          "data": {
            "text/plain": [
              "'Asterix and the Black Gold\\n\\n==Commentary==\\n\\n* In the [[omnibus edition]] version of \\'\\' Black Gold \\'\\' there is a dedication on the back of the title page that reads “à René” (to René), referring to [[René Goscinny|Goscinny]], who died on 5 November 1977, four years before \\'\\' Black Gold \\'\\' was published in French, presumably written by [[Albert Uderzo| Uderzo]].\\n* An [[audiobook]] of \\'\\'Asterix and the Black Gold\\'\\' adapted by [[Anthea Bell]] and [[Derek Hockridge]] and narrated by [[Willie Rushton|William Rushton]] was released on [[Hodder and Stoughton]]\\'s \\'\\'Hodder Children\\'s Audio\\'\\'.\\n* The character Dubbelosix is an obvious homage to [[Sean Connery]], star of the early [[James Bond]] movies. Uderzo modelled him on the appearance of Connery at the time the book was being drawn. Dubbelosix uses many \"ancient times\" versions of the popular gadgets of the Bond movies. His name is a pun on \"006\" (i.e. \"007\") — the \"six\" being required for the \"-ix\" suffix of all male Gaulish names in \\'\\'Asterix\\'\\', and also reflecting the number of times Sean Connery portrayed the role of James Bond on screen, which at the time was six.\\n* When attempting to cure Getafix, Dubbelosix administers \"a [[grain spirit]] called [[Grain whisky|Caledonian]]\", which is explained as \"Ancient [[Scotch whisky|Scotch]]\". This is a pun referring to the drink and the people — all the more so since Connery is Scottish himself.\\n*The secret service run by Surreptitius is referred to as M.I.VI. \"VI\" is 6 in Roman numerals, and [[MI6]] is the name of the British [[espionage]] service.\\n* Surreptitius is a [[caricature]] of actor [[Bernard Blier]] and bears some resemblance to James Bond\\'s early bosses [[M (James Bond)|M]] (played in the films by [[Bernard Lee]] and [[Robert Brown (British actor)|Robert Brown]])\\n* The scene where the [[papyrus]] bearing instructions self-destructs after being read is a reference to \\'\\'[[Mission: Impossible (1966 TV series)|Mission: Impossible]]\\'\\' where messages destroyed themselves after being received.\\n* Saul ben Ephishul (\"So Beneficial\" or perhaps \"It\\'s all beneficial\"), the [[Jewish|Jew]] who escorts Asterix and Obelix from Jerusalem to the [[Dead Sea]] is based on Asterix creator and writer [[René Goscinny]] (also of Jewish stock), who had died four years earlier.\\n* Asterix\\'s and Obelix\\'s visit to Jerusalem is full of references to the [[Bible]]. For example, Economikrisis mentions on page 29 that they have arrived in \"the promised land\". Asterix and Obelix spend the night in a [[stable]] in [[Bethlehem]], and Saul ben Ephishul mentions the story of [[David and Goliath]]. \\n* The Roman procurator \"Pontius Pirate\" (a reference to [[Pontius Pilate]]) is constantly [[Matthew 27:24|washing his hands]] and resembles French actor [[Jean Gabin]], who played Pontius Pilate in the 1935 French film \\'\\'[[Golgotha (film)|Golgotha]]\\'\\'.\\n* In the desert, Asterix and Obelix run into several warrior groups from historical Mesopotamian cultures — [[Sumer]]ians, [[Assyria]]ns, [[Hittites]], [[Medes]] etc. — who each greet them with a hail of arrows because they mistake them for their enemies. Incidentally, the cultures conquered each other in the reverse order to which they appear in the comic; i.e. the Medes conquered the Assyrians, the [[Akkadians]] conquered the Sumerians etc. Their presence is, however, anachronistic, as these cultures no longer existed in Roman times. The entire sequence is a reference to the later 20th century conflicts in the [[Middle East]].\\n* The Herodian Kingdom of Israel is anachronistically referred as Palestine — this name came into use only in the  2nd century CE, whereas Asterix is set c. 50 BCE.\\n* Near the end of the book when the rock oil is spilled into the sea, a seabird angrily shouts: \"Oh no, don\\'t tell me you are starting already!\". This is a reference to oil spills, most notably the [[Amoco Cadiz]] which sank in 1978 in front of the coast of [[Brittany (administrative region)|Brittany]], where the home village of Asterix is located, according to the series.\\n* The scene of Jerusalem is taken one on one from the Holyland hotel 2nd temple model as can be seen here in its original location (in a 3d view). This model has been moved to the Israel Museum in Jerusalem.\\n* The Jews are all depicted as [[Yemenite Jews]], with dark skin and black eyes and beards, a tribute to [[Marc Chagall]] the famous painter whose painting of King [[David]] hangs at the [[Knesset]] (Israeli Parliament).\\n* Uderzo includes several small references to Jewish traditions.\\n* The Gauls leave Jerusalem through the [[Lions\\' Gate]], which, while drawn very accurately, was in fact built more than 1,200 years after the timeline of the Asterix comic. The lions (e.g. cheetahs) carved in the stones are the imperial Symbol of [[Baibars]], and the gate with the \\'lions\\', incorporated into Sultan Suleiman\\'s outer wall, still stands today.\\n* Several characters in the story comment on the uselessness and nastiness of rock oil, wondering why anybody would want it; this starkly contrasts the dependence on petroleum which marks our own time.\\n* In the Norwegian translation, the new magic potion ingredient that replaced rock oil is not identified.'"
            ],
            "application/vnd.google.colaboratory.intrinsic+json": {
              "type": "string"
            }
          },
          "metadata": {}
        }
      ]
    },
    {
      "cell_type": "markdown",
      "source": [
        "определяем функцию ask, которая:\n",
        "\n",
        "Принимает запрос пользователя\n",
        "\n",
        "Ищет в базе знаний текст релевантный запросу\n",
        "\n",
        "Вставляет этот текст в сообщение для GPT\n",
        "\n",
        "Отправляет сообщение в GPT\n",
        "\n",
        "Возвращает ответ GPT"
      ],
      "metadata": {
        "id": "fR8YhFeJVY8v"
      }
    },
    {
      "cell_type": "code",
      "source": [
        "# устанавливаем библиотеку\n",
        "!pip install tiktoken"
      ],
      "metadata": {
        "colab": {
          "base_uri": "https://localhost:8080/"
        },
        "id": "ZWJyAEUZV1EG",
        "outputId": "cf825f86-2ad9-43ad-e92c-3e980c2cb45c"
      },
      "execution_count": 46,
      "outputs": [
        {
          "output_type": "stream",
          "name": "stdout",
          "text": [
            "Requirement already satisfied: tiktoken in /usr/local/lib/python3.10/dist-packages (0.8.0)\n",
            "Requirement already satisfied: regex>=2022.1.18 in /usr/local/lib/python3.10/dist-packages (from tiktoken) (2024.11.6)\n",
            "Requirement already satisfied: requests>=2.26.0 in /usr/local/lib/python3.10/dist-packages (from tiktoken) (2.32.3)\n",
            "Requirement already satisfied: charset-normalizer<4,>=2 in /usr/local/lib/python3.10/dist-packages (from requests>=2.26.0->tiktoken) (3.4.1)\n",
            "Requirement already satisfied: idna<4,>=2.5 in /usr/local/lib/python3.10/dist-packages (from requests>=2.26.0->tiktoken) (3.10)\n",
            "Requirement already satisfied: urllib3<3,>=1.21.1 in /usr/local/lib/python3.10/dist-packages (from requests>=2.26.0->tiktoken) (2.3.0)\n",
            "Requirement already satisfied: certifi>=2017.4.17 in /usr/local/lib/python3.10/dist-packages (from requests>=2.26.0->tiktoken) (2024.12.14)\n"
          ]
        }
      ]
    },
    {
      "cell_type": "code",
      "source": [
        "import tiktoken\n",
        "# с этой функцией мы уже знакомы\n",
        "def num_tokens(text: str, model: str = GPT_MODEL) -> int:\n",
        "    \"\"\"Возвращает число токенов в строке для заданной модели\"\"\"\n",
        "    encoding = tiktoken.encoding_for_model(model)\n",
        "    return len(encoding.encode(text))\n",
        "\n",
        "# Функция формирования запроса к chatGPT по пользовательскому вопросу и базе знаний\n",
        "def query_message(\n",
        "    query: str, # пользовательский запрос\n",
        "    df: pd.DataFrame, # DataFrame со столбцами text и embedding (база знаний)\n",
        "    model: str, # модель\n",
        "    token_budget: int # ограничение на число отсылаемых токенов в модель\n",
        ") -> str:\n",
        "    \"\"\"Возвращает сообщение для GPT с соответствующими исходными текстами, извлеченными из фрейма данных (базы знаний).\"\"\"\n",
        "    strings, relatednesses = strings_ranked_by_relatedness(query, df) # функция ранжирования базы знаний по пользовательскому запросу\n",
        "    # Шаблон инструкции для chatGPT\n",
        "    message = 'Use the below articles on the 2022 Winter Olympics to answer the subsequent question. If the answer cannot be found in the articles, write \"I could not find an answer.\"'\n",
        "    # Шаблон для вопроса\n",
        "    question = f\"\\n\\nQuestion: {query}\"\n",
        "\n",
        "    # Добавляем к сообщению для chatGPT релевантные строки из базы знаний, пока не выйдем за допустимое число токенов\n",
        "    for string in strings:\n",
        "        next_article = f'\\n\\nWikipedia article section:\\n\"\"\"\\n{string}\\n\"\"\"'\n",
        "        if (num_tokens(message + next_article + question, model=model) > token_budget):\n",
        "            break\n",
        "        else:\n",
        "            message += next_article\n",
        "    return message + question\n",
        "\n",
        "\n",
        "def ask(\n",
        "    query: str, # пользовательский запрос\n",
        "    df: pd.DataFrame = df, # DataFrame со столбцами text и embedding (база знаний)\n",
        "    model: str = GPT_MODEL, # модель\n",
        "    token_budget: int = 4096 - 500, # ограничение на число отсылаемых токенов в модель\n",
        "    print_message: bool = False, # нужно ли выводить сообщение перед отправкой\n",
        ") -> str:\n",
        "    \"\"\"Отвечает на вопрос, используя GPT и базу знаний.\"\"\"\n",
        "    # Формируем сообщение к chatGPT (функция выше)\n",
        "    message = query_message(query, df, model=model, token_budget=token_budget)\n",
        "    # Если параметр True, то выводим сообщение\n",
        "    if print_message:\n",
        "        print(message)\n",
        "    messages = [\n",
        "        {\"role\": \"system\", \"content\": \"You answer questions about the 2022 Winter Olympics.\"},\n",
        "        {\"role\": \"user\", \"content\": message},\n",
        "    ]\n",
        "    response = openai.chat.completions.create(\n",
        "        model=model,\n",
        "        messages=messages,\n",
        "        temperature=0 # гиперпараметр степени случайности при генерации текста. Влияет на то, как модель выбирает следующее слово в последовательности.\n",
        "    )\n",
        "    response_message = response.choices[0].message.content\n",
        "    return response_message"
      ],
      "metadata": {
        "id": "ZpAUOqWUVdvg"
      },
      "execution_count": 47,
      "outputs": []
    },
    {
      "cell_type": "markdown",
      "source": [
        "запросы к нашей базе знаний:"
      ],
      "metadata": {
        "id": "qHkdtURwYMz2"
      }
    },
    {
      "cell_type": "code",
      "source": [
        "ask('La Brea Tar Pits?')\n"
      ],
      "metadata": {
        "colab": {
          "base_uri": "https://localhost:8080/",
          "height": 125
        },
        "id": "2wCI4BECWUs1",
        "outputId": "f5f86e4b-ea96-41c5-82f9-6b1165c81b6e"
      },
      "execution_count": 48,
      "outputs": [
        {
          "output_type": "execute_result",
          "data": {
            "text/plain": [
              "\"The La Brea Tar Pits are located in Los Angeles. The petroleum seen on the surface is sourced from the Salt Lake Oil Field reservoir and the oil sands in the Repetto and Pico formations. These oil deposits were formed during the Miocene Epoch when marine plankton organisms accumulated in an ocean basin. Over time, sediments buried the organisms 300 to 1000 meters below Earth's surface, subjecting them to high pressures, turning the organic matter into oil. The 6th Street Fault that cuts through the Salt Lake Oil Field is the conduit that feeds the La Brea Tar Pits. Petroleum migrated to the surface over time, trapping and preserving animals and plants for the past 50,000 years.\""
            ],
            "application/vnd.google.colaboratory.intrinsic+json": {
              "type": "string"
            }
          },
          "metadata": {},
          "execution_count": 48
        }
      ]
    },
    {
      "cell_type": "markdown",
      "source": [
        "СОЗДАНИЕ БОТА"
      ],
      "metadata": {
        "id": "gSDVdScIauph"
      }
    },
    {
      "cell_type": "code",
      "source": [
        "!pip install aiogram"
      ],
      "metadata": {
        "colab": {
          "base_uri": "https://localhost:8080/"
        },
        "id": "xfi6SE3SauQx",
        "outputId": "640765ea-7d1a-4e98-c100-4d29d3158ce3"
      },
      "execution_count": 51,
      "outputs": [
        {
          "output_type": "stream",
          "name": "stdout",
          "text": [
            "Requirement already satisfied: aiogram in /usr/local/lib/python3.10/dist-packages (3.17.0)\n",
            "Requirement already satisfied: aiofiles<24.2,>=23.2.1 in /usr/local/lib/python3.10/dist-packages (from aiogram) (24.1.0)\n",
            "Requirement already satisfied: aiohttp<3.12,>=3.9.0 in /usr/local/lib/python3.10/dist-packages (from aiogram) (3.11.11)\n",
            "Requirement already satisfied: certifi>=2023.7.22 in /usr/local/lib/python3.10/dist-packages (from aiogram) (2024.12.14)\n",
            "Requirement already satisfied: magic-filter<1.1,>=1.0.12 in /usr/local/lib/python3.10/dist-packages (from aiogram) (1.0.12)\n",
            "Requirement already satisfied: pydantic<2.11,>=2.4.1 in /usr/local/lib/python3.10/dist-packages (from aiogram) (2.10.4)\n",
            "Requirement already satisfied: typing-extensions<=5.0,>=4.7.0 in /usr/local/lib/python3.10/dist-packages (from aiogram) (4.12.2)\n",
            "Requirement already satisfied: aiohappyeyeballs>=2.3.0 in /usr/local/lib/python3.10/dist-packages (from aiohttp<3.12,>=3.9.0->aiogram) (2.4.4)\n",
            "Requirement already satisfied: aiosignal>=1.1.2 in /usr/local/lib/python3.10/dist-packages (from aiohttp<3.12,>=3.9.0->aiogram) (1.3.2)\n",
            "Requirement already satisfied: async-timeout<6.0,>=4.0 in /usr/local/lib/python3.10/dist-packages (from aiohttp<3.12,>=3.9.0->aiogram) (4.0.3)\n",
            "Requirement already satisfied: attrs>=17.3.0 in /usr/local/lib/python3.10/dist-packages (from aiohttp<3.12,>=3.9.0->aiogram) (24.3.0)\n",
            "Requirement already satisfied: frozenlist>=1.1.1 in /usr/local/lib/python3.10/dist-packages (from aiohttp<3.12,>=3.9.0->aiogram) (1.5.0)\n",
            "Requirement already satisfied: multidict<7.0,>=4.5 in /usr/local/lib/python3.10/dist-packages (from aiohttp<3.12,>=3.9.0->aiogram) (6.1.0)\n",
            "Requirement already satisfied: propcache>=0.2.0 in /usr/local/lib/python3.10/dist-packages (from aiohttp<3.12,>=3.9.0->aiogram) (0.2.1)\n",
            "Requirement already satisfied: yarl<2.0,>=1.17.0 in /usr/local/lib/python3.10/dist-packages (from aiohttp<3.12,>=3.9.0->aiogram) (1.18.3)\n",
            "Requirement already satisfied: annotated-types>=0.6.0 in /usr/local/lib/python3.10/dist-packages (from pydantic<2.11,>=2.4.1->aiogram) (0.7.0)\n",
            "Requirement already satisfied: pydantic-core==2.27.2 in /usr/local/lib/python3.10/dist-packages (from pydantic<2.11,>=2.4.1->aiogram) (2.27.2)\n",
            "Requirement already satisfied: idna>=2.0 in /usr/local/lib/python3.10/dist-packages (from yarl<2.0,>=1.17.0->aiohttp<3.12,>=3.9.0->aiogram) (3.10)\n"
          ]
        }
      ]
    },
    {
      "cell_type": "code",
      "source": [
        "import asyncio\n",
        "from aiogram import Bot, Dispatcher, types\n",
        "from aiogram.filters import Command\n",
        "from aiogram import F\n",
        "\n",
        "# Вставьте ваш токен\n",
        "TOKEN = 'YOU_API'\n",
        "\n",
        "bot = Bot(token=TOKEN)\n",
        "dp = Dispatcher()\n",
        "\n",
        "# Информация о базе знаний\n",
        "knowledge_base_info = {\n",
        "    \"тематика\": \"petroleum\",\n",
        "    \"число записей\": 7000,\n",
        "    \"пример запроса\": \"Tell me about the petroleum.\"\n",
        "}\n",
        "\n",
        "@dp.message(Command(\"start\"))\n",
        "async def start(message: types.Message):\n",
        "    start_text = (\n",
        "        \"Привет! Я твой помощник в поиске информации на тему нефть. Желательно при общении указывай слово petroleum а не oil \"\n",
        "        \"Пока я умею работать только на английском языке.\\n\\n\"\n",
        "\n",
        "        \"Hello! I am your assistant in searching for information on the topic of petroleum. It is advisable to use the word petroleum rather than oil when communicating. \"\n",
        "        \"For now, I can only work in English.\"\n",
        "    )\n",
        "    await message.answer(start_text)\n",
        "\n",
        "@dp.message(Command(\"help\"))\n",
        "async def send_help(message: types.Message):\n",
        "    help_text = (\n",
        "        f\"Тематика: {knowledge_base_info['тематика']}\\n\"\n",
        "        f\"Число записей в базе знаний: {knowledge_base_info['число записей']}\\n\"\n",
        "        f\"Пример запроса к базе: {knowledge_base_info['пример запроса']}\"\n",
        "    )\n",
        "    await message.answer(help_text)\n",
        "\n",
        "# Обработчик текстовых сообщений\n",
        "@dp.message(F.text)\n",
        "async def handle_message(message: types.Message):\n",
        "    user_message = message.text\n",
        "\n",
        "    # Заменяем \"oil\" на \"petroleum\"\n",
        "    if \"oil\" in user_message:\n",
        "        user_message = user_message.replace(\"oil\", \"petroleum\")\n",
        "\n",
        "    response = ask(user_message)\n",
        "    await message.answer(response)\n",
        "\n",
        "# Функция для запуска бота\n",
        "async def on_startup():\n",
        "    print(\"Бот запущен!\")\n",
        "\n",
        "if __name__ == '__main__':\n",
        "    # Запуск бота в отдельном потоке\n",
        "    import nest_asyncio\n",
        "    nest_asyncio.apply()\n",
        "\n",
        "    # Запускаем бота\n",
        "    async def main():\n",
        "        await on_startup()\n",
        "        await dp.start_polling(bot)\n",
        "\n",
        "    asyncio.run(main())"
      ],
      "metadata": {
        "colab": {
          "base_uri": "https://localhost:8080/"
        },
        "id": "lAjVIZJ3iKsF",
        "outputId": "97ebb79d-0772-4bd0-ce5a-2f4ddedfa0bd"
      },
      "execution_count": 57,
      "outputs": [
        {
          "output_type": "stream",
          "name": "stdout",
          "text": [
            "Бот запущен!\n"
          ]
        },
        {
          "output_type": "stream",
          "name": "stderr",
          "text": [
            "WARNING:aiogram.dispatcher:Received SIGINT signal\n"
          ]
        }
      ]
    }
  ]
}